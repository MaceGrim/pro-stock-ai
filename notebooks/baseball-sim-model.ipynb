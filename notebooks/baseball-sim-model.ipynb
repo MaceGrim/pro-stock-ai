{
 "cells": [
  {
   "cell_type": "code",
   "execution_count": 1,
   "metadata": {},
   "outputs": [],
   "source": [
    "import pandas as pd\n",
    "import numpy as np\n",
    "import time\n",
    "import torch\n",
    "import torch.nn as nn\n",
    "import torch.optim as optim\n",
    "from torch.utils.data import DataLoader, Dataset, TensorDataset\n",
    "from sklearn.preprocessing import LabelEncoder\n",
    "from tqdm import tqdm\n",
    "from matplotlib import pyplot as plt"
   ]
  },
  {
   "cell_type": "code",
   "execution_count": 2,
   "metadata": {},
   "outputs": [
    {
     "name": "stderr",
     "output_type": "stream",
     "text": [
      "/tmp/ipykernel_488771/677716641.py:4: DtypeWarning: Columns (43) have mixed types. Specify dtype option on import or set low_memory=False.\n",
      "  data = pd.read_csv(file_path)\n"
     ]
    }
   ],
   "source": [
    "# Load data\n",
    "# file_path = '../data/statcast-short.csv'\n",
    "file_path = '../data/statcast_data_2016_2023.csv'\n",
    "data = pd.read_csv(file_path)"
   ]
  },
  {
   "cell_type": "code",
   "execution_count": 3,
   "metadata": {},
   "outputs": [
    {
     "data": {
      "text/plain": [
       "game_date\n",
       "2016    716073\n",
       "2017    721244\n",
       "2018    721190\n",
       "2019    749399\n",
       "2020    263584\n",
       "2021    709852\n",
       "2022    712392\n",
       "2023    717945\n",
       "Name: count, dtype: int64"
      ]
     },
     "execution_count": 3,
     "metadata": {},
     "output_type": "execute_result"
    }
   ],
   "source": [
    "data[\"game_date\"] = pd.to_datetime(data[\"game_date\"])\n",
    "\n",
    "# How many pitches per year?\n",
    "data[\"game_date\"].dt.year.value_counts().sort_index()"
   ]
  },
  {
   "cell_type": "code",
   "execution_count": 4,
   "metadata": {},
   "outputs": [
    {
     "name": "stderr",
     "output_type": "stream",
     "text": [
      "/tmp/ipykernel_488771/2871076944.py:2: FutureWarning: A value is trying to be set on a copy of a DataFrame or Series through chained assignment using an inplace method.\n",
      "The behavior will change in pandas 3.0. This inplace method will never work because the intermediate object on which we are setting values always behaves as a copy.\n",
      "\n",
      "For example, when doing 'df[col].method(value, inplace=True)', try using 'df.method({col: value}, inplace=True)' or df[col] = df[col].method(value) instead, to perform the operation inplace on the original object.\n",
      "\n",
      "\n",
      "  data['events'].fillna(data[\"description\"], inplace=True)\n"
     ]
    }
   ],
   "source": [
    "# Preprocess data\n",
    "data['events'].fillna(data[\"description\"], inplace=True)\n",
    "event_to_idx = {event: idx for idx, event in enumerate(data['events'].unique())}\n",
    "idx_to_event = {idx: event for event, idx in event_to_idx.items()}\n",
    "data['event_idx'] = data['events'].map(event_to_idx)"
   ]
  },
  {
   "cell_type": "code",
   "execution_count": 83,
   "metadata": {},
   "outputs": [
    {
     "data": {
      "text/plain": [
       "events\n",
       "ball                            1510090\n",
       "foul                             838517\n",
       "called_strike                    730005\n",
       "field_out                        486327\n",
       "swinging_strike                  319935\n",
       "strikeout                        273985\n",
       "single                           174926\n",
       "blocked_ball                     103828\n",
       "walk                              99124\n",
       "double                            54737\n",
       "home_run                          39505\n",
       "foul_tip                          25602\n",
       "force_out                         24662\n",
       "grounded_into_double_play         23434\n",
       "hit_by_pitch                      13006\n",
       "foul_bunt                         10559\n",
       "swinging_strike_blocked            9118\n",
       "field_error                        8629\n",
       "sac_fly                            7789\n",
       "triple                             5127\n",
       "sac_bunt                           4954\n",
       "double_play                        2787\n",
       "fielders_choice                    2531\n",
       "intent_ball                        2318\n",
       "missed_bunt                        2117\n",
       "fielders_choice_out                2003\n",
       "caught_stealing_2b                 1273\n",
       "intent_walk                         932\n",
       "strikeout_double_play               919\n",
       "pitchout                            528\n",
       "catcher_interf                      276\n",
       "other_out                           241\n",
       "bunt_foul_tip                       209\n",
       "sac_fly_double_play                 116\n",
       "caught_stealing_3b                   85\n",
       "pickoff_1b                           64\n",
       "caught_stealing_home                 50\n",
       "pickoff_2b                           42\n",
       "wild_pitch                           38\n",
       "triple_play                          32\n",
       "pickoff_caught_stealing_2b           14\n",
       "pickoff_3b                           12\n",
       "game_advisory                        11\n",
       "pickoff_caught_stealing_home          9\n",
       "pickoff_caught_stealing_3b            8\n",
       "stolen_base_2b                        8\n",
       "sac_bunt_double_play                  7\n",
       "passed_ball                           7\n",
       "swinging_pitchout                     4\n",
       "stolen_base_3b                        3\n",
       "ejection                              2\n",
       "runner_double_play                    2\n",
       "foul_pitchout                         2\n",
       "pickoff_error_2b                      1\n",
       "stolen_base_home                      1\n",
       "Name: count, dtype: int64"
      ]
     },
     "execution_count": 83,
     "metadata": {},
     "output_type": "execute_result"
    }
   ],
   "source": [
    "data[\"events\"].value_counts()"
   ]
  },
  {
   "cell_type": "code",
   "execution_count": 5,
   "metadata": {},
   "outputs": [],
   "source": [
    "# Combine batters and pitchers to get all players\n",
    "all_players = pd.concat([data['batter'], data['pitcher']]).unique()\n",
    "\n",
    "# Create a LabelEncoder for all players\n",
    "le_players = LabelEncoder()\n",
    "le_players.fit(all_players)\n",
    "\n",
    "# Transform batter and pitcher columns\n",
    "data['batter'] = le_players.transform(data['batter'])\n",
    "data['pitcher'] = le_players.transform(data['pitcher'])\n",
    "\n",
    "# Get the number of unique players\n",
    "num_players = len(le_players.classes_)"
   ]
  },
  {
   "cell_type": "code",
   "execution_count": 6,
   "metadata": {},
   "outputs": [
    {
     "name": "stdout",
     "output_type": "stream",
     "text": [
      "Number of unique pitch types: 20\n"
     ]
    }
   ],
   "source": [
    "# Create a LabelEncoder for pitch types\n",
    "le_pitch_types = LabelEncoder()\n",
    "le_pitch_types.fit(data['pitch_type'])\n",
    "\n",
    "# Transform pitch_type column\n",
    "data['pitch_type'] = le_pitch_types.transform(data['pitch_type'])\n",
    "\n",
    "# Get the number of unique pitch types\n",
    "num_pitch_types = len(le_pitch_types.classes_)\n",
    "print(f\"Number of unique pitch types: {num_pitch_types}\")"
   ]
  },
  {
   "cell_type": "code",
   "execution_count": 7,
   "metadata": {},
   "outputs": [],
   "source": [
    "val_data = data.iloc[int(0.9*len(data)):]\n",
    "data = data.iloc[:int(0.9*len(data))]"
   ]
  },
  {
   "cell_type": "code",
   "execution_count": 8,
   "metadata": {},
   "outputs": [],
   "source": [
    "# Define dataset class\n",
    "class BaseballDataset(Dataset):\n",
    "    def __init__(self, data):\n",
    "        self.data = data\n",
    "\n",
    "    def __len__(self):\n",
    "        return len(self.data)\n",
    "\n",
    "    def __getitem__(self, idx):\n",
    "        row = self.data.iloc[idx]\n",
    "        batter = row['batter']\n",
    "        pitcher = row['pitcher']\n",
    "        pitch_type = row['pitch_type']\n",
    "        release_speed = row['release_speed']\n",
    "        release_pos_x = row['release_pos_x']\n",
    "        release_pos_z = row['release_pos_z']\n",
    "        game_state = row[['home_score', 'away_score', 'balls', 'strikes', 'outs_when_up', 'inning']].values.astype(np.float32)\n",
    "        outcome = row['event_idx']\n",
    "\n",
    "        return torch.tensor([batter, pitcher], dtype=torch.long), \\\n",
    "               torch.tensor([pitch_type, release_speed, release_pos_x, release_pos_z], dtype=torch.float32), \\\n",
    "               torch.tensor(game_state, dtype=torch.float32), \\\n",
    "               torch.tensor(outcome, dtype=torch.long)"
   ]
  },
  {
   "cell_type": "code",
   "execution_count": 9,
   "metadata": {},
   "outputs": [],
   "source": [
    "# class BaseballModel(nn.Module):\n",
    "#     def __init__(self, num_players, embedding_dim, game_state_dim, hidden_dim, output_dim):\n",
    "#         super(BaseballModel, self).__init__()\n",
    "#         self.batter_embedding = nn.Embedding(num_players, embedding_dim)\n",
    "#         self.pitcher_embedding = nn.Embedding(num_players, embedding_dim)\n",
    "#         self.pitch_model = nn.Sequential(\n",
    "#             nn.Linear(embedding_dim * 2 + game_state_dim, hidden_dim),  # 50 + 50 + 6 = 106\n",
    "#             nn.ReLU(),\n",
    "#             nn.Linear(hidden_dim, 4)  # Predict pitch_type, release_speed, release_pos_x, release_pos_z\n",
    "#         )\n",
    "#         self.outcome_model = nn.Sequential(\n",
    "#             nn.Linear(embedding_dim * 2 + 4 + game_state_dim, hidden_dim),  # 50 + 50 + 4 + 6 = 110\n",
    "#             nn.ReLU(),\n",
    "#             nn.Linear(hidden_dim, output_dim)  # Predict outcome\n",
    "#         )\n",
    "\n",
    "#     def forward(self, players, game_state):\n",
    "#         batter_emb = self.batter_embedding(players[:, 0])\n",
    "#         pitcher_emb = self.pitcher_embedding(players[:, 1])\n",
    "#         x = torch.cat([batter_emb, pitcher_emb, game_state], dim=1)\n",
    "\n",
    "#         pitch_pred = self.pitch_model(x)\n",
    "\n",
    "#         outcome_input = torch.cat([batter_emb, pitcher_emb, pitch_pred, game_state], dim=1)\n",
    "#         outcome_pred = self.outcome_model(outcome_input)\n",
    "\n",
    "#         return pitch_pred, outcome_pred"
   ]
  },
  {
   "cell_type": "code",
   "execution_count": 10,
   "metadata": {},
   "outputs": [],
   "source": [
    "class BaseballModel(nn.Module):\n",
    "    def __init__(self, num_players, embedding_dim, game_state_dim, hidden_dim, output_dim):\n",
    "        super(BaseballModel, self).__init__()\n",
    "        self.batter_embedding = nn.Embedding(num_players, embedding_dim)\n",
    "        self.pitcher_embedding = nn.Embedding(num_players, embedding_dim)\n",
    "        \n",
    "        self.pitch_model = nn.Sequential(\n",
    "            nn.Linear(embedding_dim * 2 + game_state_dim, hidden_dim),\n",
    "            nn.ReLU(),\n",
    "            nn.BatchNorm1d(hidden_dim),\n",
    "            nn.Dropout(0.3),\n",
    "            nn.Linear(hidden_dim, hidden_dim),\n",
    "            nn.ReLU(),\n",
    "            nn.BatchNorm1d(hidden_dim),\n",
    "            nn.Dropout(0.3),\n",
    "            nn.Linear(hidden_dim, hidden_dim // 2),\n",
    "            nn.ReLU(),\n",
    "            nn.BatchNorm1d(hidden_dim // 2),\n",
    "            nn.Dropout(0.3),\n",
    "            nn.Linear(hidden_dim // 2, 4)  # Predict pitch_type, release_speed, release_pos_x, release_pos_z\n",
    "        )\n",
    "        \n",
    "        self.outcome_model = nn.Sequential(\n",
    "            nn.Linear(embedding_dim * 2 + 4 + game_state_dim, hidden_dim),\n",
    "            nn.ReLU(),\n",
    "            nn.BatchNorm1d(hidden_dim),\n",
    "            nn.Dropout(0.3),\n",
    "            nn.Linear(hidden_dim, hidden_dim),\n",
    "            nn.ReLU(),\n",
    "            nn.BatchNorm1d(hidden_dim),\n",
    "            nn.Dropout(0.3),\n",
    "            nn.Linear(hidden_dim, hidden_dim // 2),\n",
    "            nn.ReLU(),\n",
    "            nn.BatchNorm1d(hidden_dim // 2),\n",
    "            nn.Dropout(0.3),\n",
    "            nn.Linear(hidden_dim // 2, output_dim)  # Predict outcome\n",
    "        )\n",
    "\n",
    "    def forward(self, players, game_state):\n",
    "        batter_emb = self.batter_embedding(players[:, 0])\n",
    "        pitcher_emb = self.pitcher_embedding(players[:, 1])\n",
    "        x = torch.cat([batter_emb, pitcher_emb, game_state], dim=1)\n",
    "\n",
    "        pitch_pred = self.pitch_model(x)\n",
    "\n",
    "        outcome_input = torch.cat([batter_emb, pitcher_emb, pitch_pred, game_state], dim=1)\n",
    "        outcome_pred = self.outcome_model(outcome_input)\n",
    "\n",
    "        return pitch_pred, outcome_pred"
   ]
  },
  {
   "cell_type": "code",
   "execution_count": 12,
   "metadata": {},
   "outputs": [],
   "source": [
    "# Initialize model, loss function, and optimizer\n",
    "num_players = data['batter'].nunique() + data['pitcher'].nunique()\n",
    "embedding_dim = 128\n",
    "game_state_dim = 6\n",
    "hidden_dim = 128\n",
    "output_dim = len(event_to_idx)\n",
    "\n",
    "device = torch.device(\"cuda\" if torch.cuda.is_available() else \"cpu\")\n",
    "# device = \"cpu\"\n",
    "\n",
    "model = BaseballModel(num_players, embedding_dim, game_state_dim, hidden_dim, output_dim).to(device)\n",
    "criterion = nn.CrossEntropyLoss()\n",
    "optimizer = optim.Adam(model.parameters(), lr=0.001)"
   ]
  },
  {
   "cell_type": "code",
   "execution_count": 13,
   "metadata": {},
   "outputs": [
    {
     "name": "stderr",
     "output_type": "stream",
     "text": [
      " 33%|███▎      | 1/3 [37:26<1:14:53, 2246.79s/it]"
     ]
    },
    {
     "name": "stdout",
     "output_type": "stream",
     "text": [
      "Epoch 1/3, Loss: 4.0139, Val Loss: 3.8280\n",
      "Data Per Second: 2127.71\n"
     ]
    },
    {
     "name": "stderr",
     "output_type": "stream",
     "text": [
      " 67%|██████▋   | 2/3 [1:14:41<37:19, 2239.62s/it]"
     ]
    },
    {
     "name": "stdout",
     "output_type": "stream",
     "text": [
      "Epoch 2/3, Loss: 3.5451, Val Loss: 3.2939\n",
      "Data Per Second: 2139.32\n"
     ]
    },
    {
     "name": "stderr",
     "output_type": "stream",
     "text": [
      "100%|██████████| 3/3 [1:51:47<00:00, 2235.68s/it]"
     ]
    },
    {
     "name": "stdout",
     "output_type": "stream",
     "text": [
      "Epoch 3/3, Loss: 3.2473, Val Loss: 2.8974\n",
      "Data Per Second: 2147.90\n",
      "Training complete\n"
     ]
    },
    {
     "name": "stderr",
     "output_type": "stream",
     "text": [
      "\n"
     ]
    }
   ],
   "source": [
    "train_dataset = BaseballDataset(data)\n",
    "val_dataset = BaseballDataset(val_data)\n",
    "\n",
    "train_loader = DataLoader(train_dataset, batch_size=262144, shuffle=True)\n",
    "val_loader = DataLoader(val_dataset, batch_size=262144, shuffle=False)\n",
    "\n",
    "num_epochs = 100\n",
    "\n",
    "avg_losses = []\n",
    "avg_val_losses = []\n",
    "\n",
    "\n",
    "for epoch in tqdm(range(num_epochs)):\n",
    "    epoch_start_time = time.time()\n",
    "    total_loss = 0\n",
    "    total_val_loss = 0\n",
    "\n",
    "    model.train()\n",
    "    for players, pitch_characteristics, game_state, outcome in train_loader:\n",
    "        # Move data to GPU\n",
    "        players = players.to(device)\n",
    "        pitch_characteristics = pitch_characteristics.to(device)\n",
    "        game_state = game_state.to(device)\n",
    "        outcome = outcome.to(device)\n",
    "\n",
    "        optimizer.zero_grad()\n",
    "\n",
    "        pitch_pred, outcome_pred = model(players, game_state)\n",
    "\n",
    "        loss = criterion(outcome_pred, outcome)\n",
    "        loss.backward()\n",
    "        optimizer.step()\n",
    "\n",
    "        total_loss += loss.item()\n",
    "\n",
    "    model.eval()\n",
    "    with torch.no_grad():\n",
    "        for players, pitch_characteristics, game_state, outcome in val_loader:\n",
    "            players = players.to(device)\n",
    "            pitch_characteristics = pitch_characteristics.to(device)\n",
    "            game_state = game_state.to(device)\n",
    "            outcome = outcome.to(device)\n",
    "\n",
    "            pitch_pred, outcome_pred = model(players, game_state)\n",
    "\n",
    "            val_loss = criterion(outcome_pred, outcome)\n",
    "            total_val_loss += val_loss.item()\n",
    "        \n",
    "    avg_loss = total_loss / len(train_loader)\n",
    "    avg_val_loss = total_val_loss / len(val_loader)\n",
    "\n",
    "    avg_losses.append(avg_loss)\n",
    "    avg_val_losses.append(avg_val_loss)\n",
    "\n",
    "    epoch_end_time = time.time()\n",
    "\n",
    "    print(f\"Epoch {epoch+1}/{num_epochs}, Loss: {avg_loss:.4f}, Val Loss: {avg_val_loss:.4f}\")\n",
    "    print(f\"Data Per Second: {len(data) / (epoch_end_time - epoch_start_time):.2f}\")\n",
    "\n",
    "print(\"Training complete\")\n",
    "\n",
    "# After training, if you want to use the model on CPU again\n",
    "model = model.to(\"cpu\")\n"
   ]
  },
  {
   "cell_type": "code",
   "execution_count": 14,
   "metadata": {},
   "outputs": [],
   "source": [
    "# Use this to find the right batch size for your machine/params for SPEED\n",
    "\n",
    "# import time\n",
    "# import torch\n",
    "# from torch.utils.data import DataLoader\n",
    "# from tqdm import tqdm\n",
    "\n",
    "# def train_and_evaluate_sample(model, train_dataset, val_dataset, batch_size, num_batches, device, criterion, optimizer):\n",
    "#     train_loader = DataLoader(train_dataset, batch_size=batch_size, shuffle=True)\n",
    "#     val_loader = DataLoader(val_dataset, batch_size=batch_size, shuffle=False)\n",
    "\n",
    "#     model.train()\n",
    "#     total_loss = 0\n",
    "#     total_val_loss = 0\n",
    "#     start_time = time.time()\n",
    "\n",
    "#     # Train on a sample of batches\n",
    "#     for i, (players, pitch_characteristics, game_state, outcome) in enumerate(train_loader):\n",
    "#         if i >= num_batches:\n",
    "#             break\n",
    "\n",
    "#         players = players.to(device)\n",
    "#         pitch_characteristics = pitch_characteristics.to(device)\n",
    "#         game_state = game_state.to(device)\n",
    "#         outcome = outcome.to(device)\n",
    "\n",
    "#         optimizer.zero_grad()\n",
    "#         pitch_pred, outcome_pred = model(players, game_state)\n",
    "#         loss = criterion(outcome_pred, outcome)\n",
    "#         loss.backward()\n",
    "#         optimizer.step()\n",
    "#         total_loss += loss.item()\n",
    "\n",
    "#     # Validate on a sample of batches\n",
    "#     model.eval()\n",
    "#     with torch.no_grad():\n",
    "#         for i, (players, pitch_characteristics, game_state, outcome) in enumerate(val_loader):\n",
    "#             if i >= num_batches:\n",
    "#                 break\n",
    "\n",
    "#             players = players.to(device)\n",
    "#             pitch_characteristics = pitch_characteristics.to(device)\n",
    "#             game_state = game_state.to(device)\n",
    "#             outcome = outcome.to(device)\n",
    "\n",
    "#             pitch_pred, outcome_pred = model(players, game_state)\n",
    "#             val_loss = criterion(outcome_pred, outcome)\n",
    "#             total_val_loss += val_loss.item()\n",
    "\n",
    "#     avg_loss = total_loss / num_batches\n",
    "#     avg_val_loss = total_val_loss / num_batches\n",
    "#     sample_runtime = time.time() - start_time\n",
    "\n",
    "#     # Estimate full epoch time\n",
    "#     estimated_epoch_time = sample_runtime * (len(train_dataset) / (batch_size * num_batches))\n",
    "\n",
    "#     return avg_loss, avg_val_loss, estimated_epoch_time\n",
    "\n",
    "# def find_optimal_batch_size(model, train_dataset, val_dataset, device, criterion, optimizer):\n",
    "#     # batch_sizes = [32, 64, 128, 256, 512, 1024, 2048, 4096, 8192, 16384, 32768]\n",
    "#     batch_sizes = [65536, 131072, 262144, 524288, 1048576, 2097152]\n",
    "#     num_batches = 5  # Number of batches to sample for each batch size\n",
    "#     results = []\n",
    "\n",
    "#     for batch_size in tqdm(batch_sizes, desc=\"Testing batch sizes\"):\n",
    "#         model.to(device)\n",
    "#         avg_loss, avg_val_loss, estimated_epoch_time = train_and_evaluate_sample(\n",
    "#             model, train_dataset, val_dataset, batch_size, num_batches, device, criterion, optimizer\n",
    "#         )\n",
    "#         data_per_second = len(train_dataset) / estimated_epoch_time\n",
    "#         results.append({\n",
    "#             'batch_size': batch_size,\n",
    "#             'avg_loss': avg_loss,\n",
    "#             'avg_val_loss': avg_val_loss,\n",
    "#             'data_per_second': data_per_second,\n",
    "#             'estimated_epoch_time': estimated_epoch_time\n",
    "#         })\n",
    "#         print(f\"Batch size: {batch_size}, Loss: {avg_loss:.4f}, Val Loss: {avg_val_loss:.4f}, Data/s: {data_per_second:.2f}, Est. Epoch Time: {estimated_epoch_time:.2f}s\")\n",
    "\n",
    "#     # Find the batch size with the lowest validation loss\n",
    "#     best_batch_size = min(results, key=lambda x: x['avg_val_loss'])['batch_size']\n",
    "    \n",
    "#     print(\"\\nResults:\")\n",
    "#     for result in results:\n",
    "#         print(f\"Batch size: {result['batch_size']}, Loss: {result['avg_loss']:.4f}, Val Loss: {result['avg_val_loss']:.4f}, Data/s: {result['data_per_second']:.2f}, Est. Epoch Time: {result['estimated_epoch_time']:.2f}s\")\n",
    "    \n",
    "#     print(f\"\\nBest batch size based on validation loss: {best_batch_size}\")\n",
    "#     return results, best_batch_size\n",
    "\n",
    "# # Usage\n",
    "# results, best_batch_size = find_optimal_batch_size(model, train_dataset, val_dataset, device, criterion, optimizer)\n",
    "\n",
    "# # Train the model with the best batch size\n",
    "# best_train_loader = DataLoader(train_dataset, batch_size=best_batch_size, shuffle=True)\n",
    "# best_val_loader = DataLoader(val_dataset, batch_size=best_batch_size, shuffle=False)\n",
    "\n",
    "# # ... (rest of your training code using best_train_loader and best_val_loader)\n",
    "\n",
    "# print(\"Training complete\")\n",
    "\n",
    "# # After training, if you want to use the model on CPU again\n",
    "# model = model.to(\"cpu\")"
   ]
  },
  {
   "cell_type": "code",
   "execution_count": 15,
   "metadata": {},
   "outputs": [
    {
     "data": {
      "image/png": "[encoded data removed]",
      "text/plain": [
       "<Figure size 1000x500 with 1 Axes>"
      ]
     },
     "metadata": {},
     "output_type": "display_data"
    }
   ],
   "source": [
    "# Plot the losses\n",
    "plt.figure(figsize=(10, 5))\n",
    "plt.plot(avg_losses, label='Training Loss')\n",
    "plt.plot(avg_val_losses, label='Validation Loss')\n",
    "plt.xlabel('Epoch')\n",
    "plt.ylabel('Loss')\n",
    "plt.title('Training and Validation Losses')\n",
    "plt.legend()\n",
    "plt.show()"
   ]
  },
  {
   "cell_type": "code",
   "execution_count": 18,
   "metadata": {},
   "outputs": [],
   "source": [
    "# Save the model\n",
    "torch.save(model.state_dict(), 'enhanced_baseball_model.pth')"
   ]
  },
  {
   "cell_type": "code",
   "execution_count": 19,
   "metadata": {},
   "outputs": [],
   "source": [
    "def predict(model, player_data, game_state_data, sample=False):\n",
    "    model.eval()\n",
    "    with torch.no_grad():\n",
    "        players = torch.tensor(player_data, dtype=torch.long).unsqueeze(0)\n",
    "        game_state = torch.tensor(game_state_data, dtype=torch.float32).unsqueeze(0)\n",
    "        \n",
    "        pitch_pred, outcome_pred = model(players, game_state)\n",
    "        \n",
    "        outcome_prob = torch.softmax(outcome_pred, dim=1)\n",
    "        \n",
    "        if sample:\n",
    "            # Sample from the probability distribution\n",
    "            predicted_outcome = torch.multinomial(outcome_prob, num_samples=1).item()\n",
    "        else:\n",
    "            # Choose the most likely outcome (argmax)\n",
    "            predicted_outcome = torch.argmax(outcome_prob, dim=1).item()\n",
    "        \n",
    "        return idx_to_event[predicted_outcome]"
   ]
  },
  {
   "cell_type": "code",
   "execution_count": 80,
   "metadata": {},
   "outputs": [
    {
     "name": "stdout",
     "output_type": "stream",
     "text": [
      "[1327, 743]\n",
      "Predicted event: other_out\n"
     ]
    }
   ],
   "source": [
    "# Example prediction\n",
    "model = model.to(\"cpu\")\n",
    "player_data = [data.iloc[5]['batter'], data.iloc[5]['pitcher']]\n",
    "game_state_data = data.iloc[0][['home_score', 'away_score', 'balls', 'strikes', 'outs_when_up', 'inning']].values.astype(np.float32)\n",
    "\n",
    "print(player_data)\n",
    "\n",
    "predicted_event = predict(model, player_data, game_state_data, sample=True)\n",
    "print(f'Predicted event: {predicted_event}')\n"
   ]
  }
 ],
 "metadata": {
  "kernelspec": {
   "display_name": "claymodel-main",
   "language": "python",
   "name": "python3"
  },
  "language_info": {
   "codemirror_mode": {
    "name": "ipython",
    "version": 3
   },
   "file_extension": ".py",
   "mimetype": "text/x-python",
   "name": "python",
   "nbconvert_exporter": "python",
   "pygments_lexer": "ipython3",
   "version": "3.11.0"
  }
 },
 "nbformat": 4,
 "nbformat_minor": 2
}
