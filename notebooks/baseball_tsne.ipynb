{
 "cells": [
  {
   "cell_type": "code",
   "execution_count": 1,
   "metadata": {},
   "outputs": [],
   "source": [
    "import pandas as pd\n",
    "import numpy as np\n",
    "import plotly.express as px\n",
    "from sklearn.cluster import KMeans\n",
    "from sklearn.manifold import TSNE\n",
    "\n",
    "def load_data():\n",
    "    data_path = 'https://raw.githubusercontent.com/clkruse/clkruse.github.io/master/10-projects/baseball-explorer/fangraphs-batter-stats-simple.csv'\n",
    "    df = pd.read_csv(data_path)\n",
    "    # convert columns with percentages from strings to floats\n",
    "    for c in df.columns:\n",
    "        try:\n",
    "            df[c] = df[c].str.replace('%', '').astype(float) / 100\n",
    "        except:\n",
    "            pass\n",
    "    return df\n",
    "\n",
    "def format_figure(fig, size=1000):\n",
    "    # set point size\n",
    "    fig.update_traces(marker=dict(size=3))\n",
    "    # set the height and width of the figure\n",
    "    fig.update_layout(height=size, width=size)\n",
    "    # turn off legend\n",
    "    fig.update_layout(showlegend=False)\n",
    "    # turn off axis labels\n",
    "    fig.update_xaxes(showticklabels=False)\n",
    "    fig.update_yaxes(showticklabels=False)\n",
    "    # turn off axis titles\n",
    "    fig.update_xaxes(title_text='')\n",
    "    fig.update_yaxes(title_text='')\n",
    "    # make margins slimmer\n",
    "    fig.update_layout(margin=dict(l=30, r=20, t=60, b=20))\n",
    "    # set the background color\n",
    "    fig.update_layout(plot_bgcolor='#ebebeb', paper_bgcolor='#fafafa')\n",
    "    # set the grid color\n",
    "    fig.update_layout(xaxis_gridcolor='#dddddd', yaxis_gridcolor='#dddddd')\n",
    "    # set the color of the zerolines to the grid color\n",
    "    fig.update_xaxes(showline=True, linewidth=1, linecolor='#dddddd', zeroline=True, zerolinewidth=1, zerolinecolor='#dddddd')\n",
    "    fig.update_yaxes(showline=True, linewidth=1, linecolor='#dddddd', zeroline=True, zerolinewidth=1, zerolinecolor='#dddddd')\n",
    "    return fig"
   ]
  },
  {
   "cell_type": "code",
   "execution_count": null,
   "metadata": {},
   "outputs": [],
   "source": [
    "data = load_data()"
   ]
  },
  {
   "cell_type": "code",
   "execution_count": null,
   "metadata": {},
   "outputs": [],
   "source": [
    "stats = data.drop(columns=['Name', 'Team', 'playerid', 'Dol'])\n",
    "names = data['Name']\n",
    "teams = data['Team']"
   ]
  },
  {
   "cell_type": "code",
   "execution_count": null,
   "metadata": {},
   "outputs": [],
   "source": [
    "# fill any NaN values with 0\n",
    "stats = stats.fillna(0)\n",
    "# normalize stats such that each column has a mean of 0 and a standard deviation of 1\n",
    "stats = (stats - stats.mean()) / stats.std()"
   ]
  },
  {
   "cell_type": "code",
   "execution_count": null,
   "metadata": {},
   "outputs": [],
   "source": [
    "# run tsne on embeddings\n",
    "\n",
    "tsne = TSNE(n_components=2, random_state=0)\n",
    "tsne_embeddings = tsne.fit_transform(np.array(stats))"
   ]
  },
  {
   "cell_type": "code",
   "execution_count": null,
   "metadata": {},
   "outputs": [],
   "source": [
    "\n",
    "# kmeans cluster the embeddings\n",
    "n_clusters = 8\n",
    "kmeans = KMeans(n_clusters=n_clusters, random_state=42, n_init='auto')\n",
    "kmeans.fit(stats)\n",
    "clusters = kmeans.labels_"
   ]
  },
  {
   "cell_type": "code",
   "execution_count": null,
   "metadata": {},
   "outputs": [],
   "source": [
    "\n",
    "# create the plotly figure\n",
    "# You can tell that I'm just asking copilot to code with all these comments\n",
    "plotly_df = pd.DataFrame(tsne_embeddings, columns=['x', 'y'])\n",
    "plotly_df['text'] = [textwrap.fill(str(f)[:100], width=50).replace('\\n', '<br>') for f in names]\n",
    "plotly_df['cluster'] = [str(c) for c in clusters]\n",
    "plotly_df['WAR'] = data['WAR']\n",
    "plotly_df['Dollars'] = data['Dol']\n",
    "# create a scatter plot of the embeddings with descriptions as hover text\n",
    "fig = px.scatter(plotly_df, x='x', y='y', range_color=[data['WAR'].min() - 1, data['WAR'].max() + 1], color='WAR', hover_name='text', hover_data={'text': False, 'Dollars': True, 'cluster': True, 'x': False, 'y':False})\n",
    "#fig = px.scatter(plotly_df, x='x', y='y', color='cluster', hover_name='text', hover_data={'text': False, 'cluster': True, 'x': False, 'y':False})\n",
    "# set the height and width of the figure\n",
    "size = 1000\n",
    "fig.update_layout(height=size, width=size)\n",
    "# turn off legend\n",
    "fig.update_layout(showlegend=False)\n",
    "# turn off axis labels\n",
    "fig.update_xaxes(showticklabels=False)\n",
    "fig.update_yaxes(showticklabels=False)\n",
    "# turn off axis titles\n",
    "fig.update_xaxes(title_text='')\n",
    "fig.update_yaxes(title_text='')\n",
    "# make margins slimmer\n",
    "fig.update_layout(margin=dict(l=30, r=20, t=60, b=20))\n",
    "# set the background color\n",
    "fig.update_layout(plot_bgcolor='#ebebeb', paper_bgcolor='#fafafa')\n",
    "# set the grid color\n",
    "fig.update_layout(xaxis_gridcolor='#dddddd', yaxis_gridcolor='#dddddd')\n",
    "# set the color of the zerolines to the grid color\n",
    "fig.update_xaxes(showline=True, linewidth=1, linecolor='#dddddd', zeroline=True, zerolinewidth=1, zerolinecolor='#dddddd')\n",
    "fig.update_yaxes(showline=True, linewidth=1, linecolor='#dddddd', zeroline=True, zerolinewidth=1, zerolinecolor='#dddddd')\n",
    "# save the figure as an html file\n",
    "fig.write_html('./hitter-tsne.html', include_plotlyjs='cdn')\n",
    "fig.show()"
   ]
  },
  {
   "cell_type": "code",
   "execution_count": null,
   "metadata": {},
   "outputs": [],
   "source": [
    "from pybaseball import statcast\n",
    "statcast_data = statcast(start_dt=\"2023-06-01\", end_dt=\"2023-06-30\")"
   ]
  },
  {
   "cell_type": "code",
   "execution_count": null,
   "metadata": {},
   "outputs": [],
   "source": [
    "pitching_column_names = [\n",
    "    'release_speed', \n",
    "    #'release_pos_x',\n",
    "    #'release_pos_y', \n",
    "    #'release_pos_z', \n",
    "    #'zone', \n",
    "    'pfx_x', \n",
    "    'pfx_z', \n",
    "    #'plate_x', \n",
    "    #'plate_z', \n",
    "    'vx0',\n",
    "    'vy0',\n",
    "    'vz0',\n",
    "    'ax',\n",
    "    'ay',\n",
    "    'az',\n",
    "    'release_spin_rate',\n",
    "    #'release_extension',\n",
    "    'spin_axis'\n",
    "    ]\n"
   ]
  },
  {
   "cell_type": "code",
   "execution_count": null,
   "metadata": {},
   "outputs": [],
   "source": [
    "pitch_data = statcast_data[pitching_column_names]\n",
    "pitch_data = pitch_data.fillna(0)\n",
    "pitch_data"
   ]
  },
  {
   "cell_type": "code",
   "execution_count": null,
   "metadata": {},
   "outputs": [],
   "source": [
    "#pitch_data_norm = pitch_data.to_numpy()\n",
    "pitch_data_norm = (pitch_data - pitch_data.mean()) / pitch_data.std()\n"
   ]
  },
  {
   "cell_type": "code",
   "execution_count": null,
   "metadata": {},
   "outputs": [],
   "source": [
    "# run tsne on embeddings\n",
    "tsne = TSNE(n_components=2, random_state=0)\n",
    "pitch_embeddings = tsne.fit_transform(np.array(pitch_data_norm))\n",
    "# kmeans cluster the embeddings\n",
    "n_clusters = 8\n",
    "kmeans = KMeans(n_clusters=n_clusters, random_state=42, n_init='auto')\n",
    "kmeans.fit(pitch_data_norm)\n",
    "clusters = kmeans.labels_"
   ]
  },
  {
   "cell_type": "code",
   "execution_count": null,
   "metadata": {},
   "outputs": [],
   "source": [
    "statcast_data.iloc[0][['game_date', 'inning', 'pitcher', 'inning_topbot', 'balls', 'strikes', 'outs_when_up']].to_dict()"
   ]
  },
  {
   "cell_type": "code",
   "execution_count": null,
   "metadata": {},
   "outputs": [],
   "source": [
    "from urllib.parse import quote\n",
    "\n",
    "def create_video_url(row):\n",
    "    base_url = \"https://www.mlb.com/video/?utm=mlbfilmroom-redirect&q=\"\n",
    "\n",
    "    fields = row[['game_date', 'inning', 'pitcher', 'inning_topbot', 'balls', 'strikes', 'outs_when_up']].to_dict()\n",
    "    import pandas as pd\n",
    "\n",
    "\n",
    "    query_params = []\n",
    "    for field, value in fields.items():\n",
    "        if field == \"game_date\":\n",
    "            if isinstance(value, pd.Timestamp):\n",
    "                query_params.append(f\"Date %3D %5B%22{value.strftime('%Y-%m-%d')}%22%5D\")\n",
    "            else:\n",
    "                query_params.append(f\"Date %3D %5B%22{value[:10]}%22%5D\")\n",
    "        elif field == \"inning\":\n",
    "            query_params.append(f\"Inning %3D %5B{value}%5D\")\n",
    "        elif field == \"pitcher\":\n",
    "            query_params.append(f\"PitcherId %3D %5B{value}%5D\")\n",
    "        elif field == \"inning_topbot\":\n",
    "            query_params.append(f\"TopBottom %3D %5B%22{value.upper()}TOM%22%5D\")\n",
    "        elif field == \"balls\":\n",
    "            query_params.append(f\"Balls %3D %5B{value}%5D\")\n",
    "        elif field == \"strikes\":\n",
    "            query_params.append(f\"Strikes %3D %5B{value}%5D\")\n",
    "        elif field == \"outs_when_up\":\n",
    "            query_params.append(f\"Outs %3D %5B{value}%5D\")\n",
    "\n",
    "    query = base_url + \"+AND+\".join(query_params) + \"+Order+By+Timestamp+DESC\"\n",
    "    # remove the spaces from the query \n",
    "    query = query.replace(' ', '')\n",
    "    return query"
   ]
  },
  {
   "cell_type": "code",
   "execution_count": null,
   "metadata": {},
   "outputs": [],
   "source": [
    "statcast_data['url'] = statcast_data.apply(create_video_url, axis=1)\n",
    "# convert the url to a clickable link\n",
    "statcast_data['url'] = statcast_data['url'].apply(lambda x: f'<a href=\"{x}\" target=\"_blank\">Video</a>')"
   ]
  },
  {
   "cell_type": "code",
   "execution_count": null,
   "metadata": {},
   "outputs": [],
   "source": [
    "import webbrowser\n",
    "# create the plotly figure\n",
    "# You can tell that I'm just asking copilot to code with all these comments\n",
    "statcast_data['x'] = pitch_embeddings[:, 0]\n",
    "statcast_data['y'] = pitch_embeddings[:, 1]\n",
    "statcast_data['cluster'] = [str(c) for c in clusters]\n",
    "# create a scatter plot of the embeddings with descriptions as hover text\n",
    "color_field = 'release_spin_rate'\n",
    "statcast_data[color_field] = statcast_data[color_field].astype(float)\n",
    "fig = px.scatter(\n",
    "    statcast_data, \n",
    "    x='x', y='y', \n",
    "    range_color=[statcast_data[color_field].min() - 1, statcast_data[color_field].max() + 1],\n",
    "    color=color_field,\n",
    "    hover_name='player_name', \n",
    "    hover_data={\n",
    "        'cluster': True,\n",
    "        'pitch_name': True,\n",
    "        'release_speed': True,\n",
    "        'release_spin_rate': True,\n",
    "        'zone': True,\n",
    "        'p_throws': True,\n",
    "        'description': True,\n",
    "        'home_team': True,\n",
    "        #'url': True,\n",
    "        'x': False, \n",
    "        'y':False\n",
    "      }\n",
    "    )\n",
    "fig = format_figure(fig)\n",
    "fig.write_html('./pitch-only-stats-tsne.html', include_plotlyjs='cdn')\n",
    "fig.show()"
   ]
  }
 ],
 "metadata": {
  "kernelspec": {
   "display_name": "core",
   "language": "python",
   "name": "python3"
  },
  "language_info": {
   "codemirror_mode": {
    "name": "ipython",
    "version": 3
   },
   "file_extension": ".py",
   "mimetype": "text/x-python",
   "name": "python",
   "nbconvert_exporter": "python",
   "pygments_lexer": "ipython3",
   "version": "3.12.2"
  }
 },
 "nbformat": 4,
 "nbformat_minor": 2
}
